{
 "cells": [
  {
   "cell_type": "markdown",
   "metadata": {},
   "source": [
    "Goal: Create a function that you can feed length and energy and get flux"
   ]
  },
  {
   "cell_type": "code",
   "execution_count": 11,
   "metadata": {},
   "outputs": [],
   "source": [
    "#basic imports and ipython setup\n",
    "%matplotlib inline\n",
    "\n",
    "import matplotlib.pyplot as plt\n",
    "import numpy as np\n",
    "\n",
    "import cPickle as pickle\n",
    "from bz2 import BZ2File\n",
    "from scipy.interpolate import RectBivariateSpline"
   ]
  },
  {
   "cell_type": "code",
   "execution_count": 236,
   "metadata": {},
   "outputs": [],
   "source": [
    "def flux(E, coszen): \n",
    "    \n",
    "    # Load the MCEq splines\n",
    "    spline_tables_dict = pickle.load( BZ2File( 'MCEq_spline_table.pckl.bz2', 'r') )\n",
    "    \n",
    "    flux = {}\n",
    "    species = [\"numu\", \"numubar\", \"nue\", \"nuebar\"]\n",
    "    \n",
    "    for sp in species: \n",
    "        flux[sp] = np.zeros_like(E) # intitalize grid\n",
    "    \n",
    "        # solve for each angle \n",
    "        for i_angle, angle in enumerate(coszen[0,:]):\n",
    "            flux[sp][:, i_angle] = spline_tables_dict['c+'][sp](np.abs(angle), np.log(E)[:, i_angle])\n",
    "        \n",
    "        flux[sp] = flux[sp]*E**3 # by convention the flux is often multiplied by energy cubed\n",
    "    \n",
    "    return flux\n",
    "    "
   ]
  },
  {
   "cell_type": "code",
   "execution_count": 232,
   "metadata": {},
   "outputs": [],
   "source": [
    "# Define the grid\n",
    "e_grid = np.logspace(1, 4, 30)\n",
    "coszen_grid = np.linspace(-1, 1, 15)\n",
    "# Define grid\n",
    "E, coszen = np.meshgrid(e_grid, coszen_grid, indexing='ij')"
   ]
  },
  {
   "cell_type": "code",
   "execution_count": 237,
   "metadata": {
    "scrolled": true
   },
   "outputs": [],
   "source": [
    "nom_flux_raised = flux(E, coszen)"
   ]
  },
  {
   "cell_type": "code",
   "execution_count": 241,
   "metadata": {},
   "outputs": [
    {
     "data": {
      "image/png": "[encoded data removed]",
      "text/plain": [
       "<Figure size 432x288 with 2 Axes>"
      ]
     },
     "metadata": {
      "needs_background": "light"
     },
     "output_type": "display_data"
    }
   ],
   "source": [
    "fig, ax = plt.subplots()\n",
    "\n",
    "cmesh = ax.pcolormesh(E, coszen, nom_flux_raised[\"nue\"], cmap='Oranges', vmin=0)\n",
    "fig.colorbar(cmesh, ax=ax)\n",
    "\n",
    "ax.set_xlabel(r'$E_\\nu$')\n",
    "ax.set_ylabel(r'$\\cos_{\\theta_z}$')\n",
    "cmesh.set_label('# of contacts')\n",
    "ax.set_xscale('log')"
   ]
  },
  {
   "cell_type": "code",
   "execution_count": null,
   "metadata": {},
   "outputs": [],
   "source": []
  }
 ],
 "metadata": {
  "kernelspec": {
   "display_name": "Python 2",
   "language": "python",
   "name": "python2"
  },
  "language_info": {
   "codemirror_mode": {
    "name": "ipython",
    "version": 2
   },
   "file_extension": ".py",
   "mimetype": "text/x-python",
   "name": "python",
   "nbconvert_exporter": "python",
   "pygments_lexer": "ipython2",
   "version": "2.7.15"
  }
 },
 "nbformat": 4,
 "nbformat_minor": 2
}
